{
 "cells": [
  {
   "cell_type": "markdown",
   "metadata": {},
   "source": [
    "# SVM with Variations of Kernel and C values"
   ]
  },
  {
   "cell_type": "code",
   "execution_count": 1,
   "metadata": {},
   "outputs": [],
   "source": [
    "# Import Important Libraries\n",
    "from sklearn.linear_model import LogisticRegression # importing Sklearn's logistic regression's module\n",
    "from sklearn import preprocessing # preprossing is what we do with the data before we run the learning algorithm\n",
    "from sklearn.model_selection import train_test_split \n",
    "from sklearn.metrics import precision_recall_fscore_support\n",
    "from sklearn.preprocessing import PolynomialFeatures\n",
    "import numpy as np\n",
    "import pandas as pd\n",
    "from sklearn import svm\n",
    "\n",
    "import matplotlib.pyplot as plt\n",
    "%matplotlib inline"
   ]
  },
  {
   "cell_type": "code",
   "execution_count": 2,
   "metadata": {},
   "outputs": [],
   "source": [
    "# Load the dataset\n",
    "df= pd.read_csv(r\"C:\\Users\\User\\Downloads\\data.csv\",delimiter=',',na_values='?')\n",
    "# If Overall for a play is less than 72, the player will be classify as bad player.\n",
    "# Otherwise, the player will be classify as good player.\n",
    "df.loc[df.Overall<72,'Y']=0\n",
    "df.loc[df.Overall>=72,'Y']=1"
   ]
  },
  {
   "cell_type": "code",
   "execution_count": 3,
   "metadata": {},
   "outputs": [
    {
     "name": "stdout",
     "output_type": "stream",
     "text": [
      "(8761, 42)\n",
      "(8761,)\n"
     ]
    }
   ],
   "source": [
    "# Set the data (X) and target (Y) values\n",
    "Y=np.array(df['Y'])\n",
    "X = df.drop(columns=['Overall','Y'])\n",
    "y=np.array(X)\n",
    "# Print the shape of data (X) and target (Y) values\n",
    "print(X.shape)\n",
    "print(Y.shape)"
   ]
  },
  {
   "cell_type": "markdown",
   "metadata": {},
   "source": [
    "# Data Pre-Processing\n",
    "Scale before splitting the data into train and test- scale the data since we will be using gradient ascent"
   ]
  },
  {
   "cell_type": "code",
   "execution_count": 4,
   "metadata": {},
   "outputs": [
    {
     "name": "stderr",
     "output_type": "stream",
     "text": [
      "C:\\Users\\User\\Anaconda3\\lib\\site-packages\\ipykernel_launcher.py:2: DataConversionWarning: Data with input dtype int64, float64 were all converted to float64 by the scale function.\n",
      "  \n"
     ]
    }
   ],
   "source": [
    "# Use preprocessing to scale the data and use train_test_split to split the data.\n",
    "x_scale = preprocessing.scale(X)\n",
    "y = Y\n",
    "\n",
    "x_train, x_test, y_train, y_test = train_test_split(x_scale, y)"
   ]
  },
  {
   "cell_type": "markdown",
   "metadata": {},
   "source": [
    "# Fitting Model using Sk Learn Library. "
   ]
  },
  {
   "cell_type": "code",
   "execution_count": 5,
   "metadata": {},
   "outputs": [
    {
     "name": "stdout",
     "output_type": "stream",
     "text": [
      "C=0.01 & Kernel=linear\n",
      "0.9351598173515981\n",
      "0.9256047466910087\n",
      "C=0.1 & Kernel=linear\n",
      "0.9570776255707762\n",
      "0.9511638521223186\n",
      "C=1 & Kernel=linear\n",
      "0.9732115677321157\n",
      "0.9698767685988133\n"
     ]
    },
    {
     "name": "stderr",
     "output_type": "stream",
     "text": [
      "C:\\Users\\User\\Anaconda3\\lib\\site-packages\\sklearn\\svm\\base.py:196: FutureWarning: The default value of gamma will change from 'auto' to 'scale' in version 0.22 to account better for unscaled features. Set gamma explicitly to 'auto' or 'scale' to avoid this warning.\n",
      "  \"avoid this warning.\", FutureWarning)\n"
     ]
    },
    {
     "name": "stdout",
     "output_type": "stream",
     "text": [
      "C=0.01 & Kernel=rbf\n",
      "0.8496194824961948\n",
      "0.8521223185759927\n"
     ]
    },
    {
     "name": "stderr",
     "output_type": "stream",
     "text": [
      "C:\\Users\\User\\Anaconda3\\lib\\site-packages\\sklearn\\svm\\base.py:196: FutureWarning: The default value of gamma will change from 'auto' to 'scale' in version 0.22 to account better for unscaled features. Set gamma explicitly to 'auto' or 'scale' to avoid this warning.\n",
      "  \"avoid this warning.\", FutureWarning)\n"
     ]
    },
    {
     "name": "stdout",
     "output_type": "stream",
     "text": [
      "C=0.1 & Kernel=rbf\n",
      "0.9337899543378996\n",
      "0.9201277955271565\n"
     ]
    },
    {
     "name": "stderr",
     "output_type": "stream",
     "text": [
      "C:\\Users\\User\\Anaconda3\\lib\\site-packages\\sklearn\\svm\\base.py:196: FutureWarning: The default value of gamma will change from 'auto' to 'scale' in version 0.22 to account better for unscaled features. Set gamma explicitly to 'auto' or 'scale' to avoid this warning.\n",
      "  \"avoid this warning.\", FutureWarning)\n"
     ]
    },
    {
     "name": "stdout",
     "output_type": "stream",
     "text": [
      "C=1 & Kernel=rbf\n",
      "0.9684931506849315\n",
      "0.9488817891373802\n"
     ]
    },
    {
     "name": "stderr",
     "output_type": "stream",
     "text": [
      "C:\\Users\\User\\Anaconda3\\lib\\site-packages\\sklearn\\svm\\base.py:196: FutureWarning: The default value of gamma will change from 'auto' to 'scale' in version 0.22 to account better for unscaled features. Set gamma explicitly to 'auto' or 'scale' to avoid this warning.\n",
      "  \"avoid this warning.\", FutureWarning)\n"
     ]
    },
    {
     "name": "stdout",
     "output_type": "stream",
     "text": [
      "C=0.01 & Kernel=poly\n",
      "0.6692541856925418\n",
      "0.6481058877225011\n"
     ]
    },
    {
     "name": "stderr",
     "output_type": "stream",
     "text": [
      "C:\\Users\\User\\Anaconda3\\lib\\site-packages\\sklearn\\svm\\base.py:196: FutureWarning: The default value of gamma will change from 'auto' to 'scale' in version 0.22 to account better for unscaled features. Set gamma explicitly to 'auto' or 'scale' to avoid this warning.\n",
      "  \"avoid this warning.\", FutureWarning)\n"
     ]
    },
    {
     "name": "stdout",
     "output_type": "stream",
     "text": [
      "C=0.1 & Kernel=poly\n",
      "0.8264840182648402\n",
      "0.8119580100410771\n"
     ]
    },
    {
     "name": "stderr",
     "output_type": "stream",
     "text": [
      "C:\\Users\\User\\Anaconda3\\lib\\site-packages\\sklearn\\svm\\base.py:196: FutureWarning: The default value of gamma will change from 'auto' to 'scale' in version 0.22 to account better for unscaled features. Set gamma explicitly to 'auto' or 'scale' to avoid this warning.\n",
      "  \"avoid this warning.\", FutureWarning)\n"
     ]
    },
    {
     "name": "stdout",
     "output_type": "stream",
     "text": [
      "C=1 & Kernel=poly\n",
      "0.9266362252663622\n",
      "0.8991328160657234\n"
     ]
    }
   ],
   "source": [
    "accuracy_svm_train = []\n",
    "accuracy_svm_test = []\n",
    "variations = []\n",
    "cVals = [0.01, 0.1, 1]\n",
    "kernelTypes = ['linear','rbf','poly']\n",
    "# Different kernels are used for variation\n",
    "for kType in kernelTypes:\n",
    "    # Different c values are used for variation\n",
    "    for c in cVals:\n",
    "        # svm.SVC is created with different variation of kerneal and c value\n",
    "        svm_model = svm.SVC(probability = False, kernel = kType, C = c)\n",
    "    \n",
    "        # Fit the classifier on the training set\n",
    "        svm_model.fit(x_train, y_train)\n",
    "    \n",
    "        # The prediction and accuracy of the training set\n",
    "        Yhat_train = svm_model.predict(x_train)\n",
    "        acc_train = np.mean(Yhat_train==y_train)\n",
    "        accuracy_svm_train.append(acc_train)\n",
    "    \n",
    "        # The prediction and accuracy of the testing set\n",
    "        Yhat_test = svm_model.predict(x_test)\n",
    "        acc_test = np.mean(Yhat_test==y_test)\n",
    "        accuracy_svm_test.append(acc_test)\n",
    "    \n",
    "        # Appending variation for graphing purposes\n",
    "        variation = \"C=\" + str(c) + \" & Kernel=\" + kType\n",
    "        variations.append(variation)\n",
    "        print (variation)\n",
    "        print (acc_train)\n",
    "        print (acc_test)\n",
    "    "
   ]
  },
  {
   "cell_type": "markdown",
   "metadata": {},
   "source": [
    "# Plotting Accuracy v/s Variations."
   ]
  },
  {
   "cell_type": "code",
   "execution_count": 6,
   "metadata": {},
   "outputs": [
    {
     "data": {
      "image/png": "[encoded data removed]",
      "text/plain": [
       "<Figure size 432x288 with 1 Axes>"
      ]
     },
     "metadata": {
      "needs_background": "light"
     },
     "output_type": "display_data"
    }
   ],
   "source": [
    "# Plot Accuracy v/s Variations.\n",
    "plt.plot(variations,accuracy_svm_train,'.-',color='green')\n",
    "plt.plot(variations,accuracy_svm_test,'.-',color='red')\n",
    "plt.legend(['Training Accuracy', 'Test Accuracy'], loc='lower left')\n",
    "plt.xlabel('Variations')\n",
    "plt.ylabel('Accuracy')\n",
    "plt.xticks(rotation=90)\n",
    "plt.title(\"Accuracy vs Variations\")\n",
    "plt.grid()"
   ]
  },
  {
   "cell_type": "code",
   "execution_count": null,
   "metadata": {},
   "outputs": [],
   "source": []
  }
 ],
 "metadata": {
  "kernelspec": {
   "display_name": "Python 3",
   "language": "python",
   "name": "python3"
  },
  "language_info": {
   "codemirror_mode": {
    "name": "ipython",
    "version": 3
   },
   "file_extension": ".py",
   "mimetype": "text/x-python",
   "name": "python",
   "nbconvert_exporter": "python",
   "pygments_lexer": "ipython3",
   "version": "3.7.1"
  }
 },
 "nbformat": 4,
 "nbformat_minor": 2
}
