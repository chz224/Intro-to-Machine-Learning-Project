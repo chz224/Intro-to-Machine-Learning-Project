{
 "cells": [
  {
   "cell_type": "markdown",
   "metadata": {},
   "source": [
    "# Logistic Regression with Variations of Polynomial, Penalty, Dual and C values"
   ]
  },
  {
   "cell_type": "code",
   "execution_count": 2,
   "metadata": {},
   "outputs": [],
   "source": [
    "# Import Important Libraries\n",
    "from sklearn.linear_model import LogisticRegression # importing Sklearn's logistic regression's module\n",
    "from sklearn import preprocessing # preprossing is what we do with the data before we run the learning algorithm\n",
    "from sklearn.model_selection import train_test_split \n",
    "from sklearn.metrics import precision_recall_fscore_support\n",
    "from sklearn.preprocessing import PolynomialFeatures\n",
    "import numpy as np\n",
    "import pandas as pd\n",
    "\n",
    "import matplotlib.pyplot as plt\n",
    "%matplotlib inline"
   ]
  },
  {
   "cell_type": "code",
   "execution_count": 3,
   "metadata": {},
   "outputs": [],
   "source": [
    "# Load the dataset\n",
    "df= pd.read_csv(r\"C:\\Users\\User\\Downloads\\data.csv\",delimiter=',',na_values='?')\n",
    "# If Overall for a play is less than 72, the player will be classify as bad player.\n",
    "# Otherwise, the player will be classify as good player.\n",
    "df.loc[df.Overall<72,'Y']=0\n",
    "df.loc[df.Overall>=72,'Y']=1"
   ]
  },
  {
   "cell_type": "code",
   "execution_count": 5,
   "metadata": {},
   "outputs": [
    {
     "name": "stdout",
     "output_type": "stream",
     "text": [
      "(8761, 42)\n",
      "(8761,)\n"
     ]
    }
   ],
   "source": [
    "# Set the data (X) and target (Y) values\n",
    "Y=np.array(df['Y'])\n",
    "X = df.drop(columns=['Overall','Y'])\n",
    "\n",
    "# Print the shape of data (X) and target (Y) values\n",
    "print(X.shape)\n",
    "print(Y.shape)"
   ]
  },
  {
   "cell_type": "markdown",
   "metadata": {},
   "source": [
    "# Data Pre-Processing\n",
    "Scale before splitting the data into train and test- scale the data since we will be using gradient ascent"
   ]
  },
  {
   "cell_type": "code",
   "execution_count": 4,
   "metadata": {},
   "outputs": [
    {
     "name": "stderr",
     "output_type": "stream",
     "text": [
      "C:\\Users\\User\\Anaconda3\\lib\\site-packages\\ipykernel_launcher.py:2: DataConversionWarning: Data with input dtype int64, float64 were all converted to float64 by the scale function.\n",
      "  \n"
     ]
    }
   ],
   "source": [
    "# Use preprocessing to scale the data and use train_test_split to split the data.\n",
    "x_scale = preprocessing.scale(X)\n",
    "y = Y\n",
    "\n",
    "x_train, x_test, y_train, y_test = train_test_split(x_scale, y)"
   ]
  },
  {
   "cell_type": "markdown",
   "metadata": {},
   "source": [
    "# Fitting Model using Sk Learn Library. "
   ]
  },
  {
   "cell_type": "code",
   "execution_count": 5,
   "metadata": {},
   "outputs": [
    {
     "name": "stderr",
     "output_type": "stream",
     "text": [
      "C:\\Users\\User\\Anaconda3\\lib\\site-packages\\sklearn\\linear_model\\logistic.py:433: FutureWarning: Default solver will be changed to 'lbfgs' in 0.22. Specify a solver to silence this warning.\n",
      "  FutureWarning)\n",
      "C:\\Users\\User\\Anaconda3\\lib\\site-packages\\sklearn\\linear_model\\logistic.py:433: FutureWarning: Default solver will be changed to 'lbfgs' in 0.22. Specify a solver to silence this warning.\n",
      "  FutureWarning)\n",
      "C:\\Users\\User\\Anaconda3\\lib\\site-packages\\sklearn\\linear_model\\logistic.py:433: FutureWarning: Default solver will be changed to 'lbfgs' in 0.22. Specify a solver to silence this warning.\n",
      "  FutureWarning)\n"
     ]
    },
    {
     "name": "stdout",
     "output_type": "stream",
     "text": [
      "C=0.01 & Dual=False & Penalty=l1 & Degree= 1\n",
      "0.9184170471841705\n",
      "0.9128251939753537\n",
      "C=0.1 & Dual=False & Penalty=l1 & Degree= 1\n",
      "0.9659056316590563\n",
      "0.9666818804198996\n",
      "C=1 & Dual=False & Penalty=l1 & Degree= 1\n",
      "0.9719939117199391\n",
      "0.9680511182108626\n",
      "C=0.01 & Dual=True & Penalty=l2 & Degree= 1\n",
      "0.9191780821917809\n",
      "0.9105431309904153\n",
      "C=0.1 & Dual=True & Penalty=l2 & Degree= 1\n",
      "0.943683409436834\n",
      "0.9415791875855773\n"
     ]
    },
    {
     "name": "stderr",
     "output_type": "stream",
     "text": [
      "C:\\Users\\User\\Anaconda3\\lib\\site-packages\\sklearn\\linear_model\\logistic.py:433: FutureWarning: Default solver will be changed to 'lbfgs' in 0.22. Specify a solver to silence this warning.\n",
      "  FutureWarning)\n",
      "C:\\Users\\User\\Anaconda3\\lib\\site-packages\\sklearn\\linear_model\\logistic.py:433: FutureWarning: Default solver will be changed to 'lbfgs' in 0.22. Specify a solver to silence this warning.\n",
      "  FutureWarning)\n",
      "C:\\Users\\User\\Anaconda3\\lib\\site-packages\\sklearn\\linear_model\\logistic.py:433: FutureWarning: Default solver will be changed to 'lbfgs' in 0.22. Specify a solver to silence this warning.\n",
      "  FutureWarning)\n",
      "C:\\Users\\User\\Anaconda3\\lib\\site-packages\\sklearn\\svm\\base.py:922: ConvergenceWarning: Liblinear failed to converge, increase the number of iterations.\n",
      "  \"the number of iterations.\", ConvergenceWarning)\n"
     ]
    },
    {
     "name": "stdout",
     "output_type": "stream",
     "text": [
      "C=1 & Dual=True & Penalty=l2 & Degree= 1\n",
      "0.9628614916286149\n",
      "0.9612049292560475\n"
     ]
    },
    {
     "name": "stderr",
     "output_type": "stream",
     "text": [
      "C:\\Users\\User\\Anaconda3\\lib\\site-packages\\sklearn\\linear_model\\logistic.py:433: FutureWarning: Default solver will be changed to 'lbfgs' in 0.22. Specify a solver to silence this warning.\n",
      "  FutureWarning)\n"
     ]
    },
    {
     "name": "stdout",
     "output_type": "stream",
     "text": [
      "C=0.01 & Dual=False & Penalty=l1 & Degree= 2\n",
      "0.9343987823439879\n",
      "0.9274303970789594\n"
     ]
    },
    {
     "name": "stderr",
     "output_type": "stream",
     "text": [
      "C:\\Users\\User\\Anaconda3\\lib\\site-packages\\sklearn\\linear_model\\logistic.py:433: FutureWarning: Default solver will be changed to 'lbfgs' in 0.22. Specify a solver to silence this warning.\n",
      "  FutureWarning)\n"
     ]
    },
    {
     "name": "stdout",
     "output_type": "stream",
     "text": [
      "C=0.1 & Dual=False & Penalty=l1 & Degree= 2\n",
      "0.9774733637747336\n",
      "0.970333181195801\n"
     ]
    },
    {
     "name": "stderr",
     "output_type": "stream",
     "text": [
      "C:\\Users\\User\\Anaconda3\\lib\\site-packages\\sklearn\\linear_model\\logistic.py:433: FutureWarning: Default solver will be changed to 'lbfgs' in 0.22. Specify a solver to silence this warning.\n",
      "  FutureWarning)\n",
      "C:\\Users\\User\\Anaconda3\\lib\\site-packages\\sklearn\\svm\\base.py:922: ConvergenceWarning: Liblinear failed to converge, increase the number of iterations.\n",
      "  \"the number of iterations.\", ConvergenceWarning)\n",
      "C:\\Users\\User\\Anaconda3\\lib\\site-packages\\sklearn\\linear_model\\logistic.py:433: FutureWarning: Default solver will be changed to 'lbfgs' in 0.22. Specify a solver to silence this warning.\n",
      "  FutureWarning)\n"
     ]
    },
    {
     "name": "stdout",
     "output_type": "stream",
     "text": [
      "C=1 & Dual=False & Penalty=l1 & Degree= 2\n",
      "0.9940639269406393\n",
      "0.9680511182108626\n"
     ]
    },
    {
     "name": "stderr",
     "output_type": "stream",
     "text": [
      "C:\\Users\\User\\Anaconda3\\lib\\site-packages\\sklearn\\svm\\base.py:922: ConvergenceWarning: Liblinear failed to converge, increase the number of iterations.\n",
      "  \"the number of iterations.\", ConvergenceWarning)\n",
      "C:\\Users\\User\\Anaconda3\\lib\\site-packages\\sklearn\\linear_model\\logistic.py:433: FutureWarning: Default solver will be changed to 'lbfgs' in 0.22. Specify a solver to silence this warning.\n",
      "  FutureWarning)\n"
     ]
    },
    {
     "name": "stdout",
     "output_type": "stream",
     "text": [
      "C=0.01 & Dual=True & Penalty=l2 & Degree= 2\n",
      "0.9648401826484019\n",
      "0.9470561387494295\n"
     ]
    },
    {
     "name": "stderr",
     "output_type": "stream",
     "text": [
      "C:\\Users\\User\\Anaconda3\\lib\\site-packages\\sklearn\\svm\\base.py:922: ConvergenceWarning: Liblinear failed to converge, increase the number of iterations.\n",
      "  \"the number of iterations.\", ConvergenceWarning)\n",
      "C:\\Users\\User\\Anaconda3\\lib\\site-packages\\sklearn\\linear_model\\logistic.py:433: FutureWarning: Default solver will be changed to 'lbfgs' in 0.22. Specify a solver to silence this warning.\n",
      "  FutureWarning)\n"
     ]
    },
    {
     "name": "stdout",
     "output_type": "stream",
     "text": [
      "C=0.1 & Dual=True & Penalty=l2 & Degree= 2\n",
      "0.9864535768645357\n",
      "0.9589228662711091\n",
      "C=1 & Dual=True & Penalty=l2 & Degree= 2\n",
      "0.9931506849315068\n",
      "0.9552715654952076\n"
     ]
    },
    {
     "name": "stderr",
     "output_type": "stream",
     "text": [
      "C:\\Users\\User\\Anaconda3\\lib\\site-packages\\sklearn\\svm\\base.py:922: ConvergenceWarning: Liblinear failed to converge, increase the number of iterations.\n",
      "  \"the number of iterations.\", ConvergenceWarning)\n"
     ]
    }
   ],
   "source": [
    "accuracy_values_train = []\n",
    "accuracy_values_test = []\n",
    "variations = []\n",
    "boolDual = True\n",
    "cVal = [0.01, 0.1, 1]\n",
    "for i in range(2):\n",
    "    # Create an object of PolynomialFeatures(i+1)\n",
    "    poly = PolynomialFeatures(degree=(i+1))\n",
    "    x_train_poly = poly.fit_transform(x_train)\n",
    "    x_test_poly = poly.fit_transform(x_test)\n",
    "    for j in range (2):\n",
    "        # Set penalty and dual\n",
    "        penaltyType ='l'+str(j+1)\n",
    "        boolDual = not boolDual\n",
    "        # set c value\n",
    "        for c in cVal:\n",
    "            # Create object of logistic regression model. Past value of C, dual, and penalty  for different variation\n",
    "            logreg = LogisticRegression(C=c,dual=boolDual,penalty=penaltyType)\n",
    "            # Fit the model with train data\n",
    "            logreg.fit(x_train_poly, y_train)\n",
    "            # Predicted values on training set using logreg.predict\n",
    "            yhat_train = logreg.predict(x_train_poly)\n",
    "            # The accuracy achieved on training set using logreg.score\n",
    "            acc_train = logreg.score(x_train_poly, y_train)\n",
    "            accuracy_values_train.append(acc_train)\n",
    "        \n",
    "            # Predicted values on testing set using logreg.predict\n",
    "            yhat_test = logreg.predict(x_test_poly)\n",
    "            # The accuracy achieved on testing set using logreg.score\n",
    "            acc_test = logreg.score(x_test_poly, y_test)\n",
    "            accuracy_values_test.append(acc_test)\n",
    "        \n",
    "            variation = \"C=\" + str(c) +\" & Dual=\" +str(boolDual)+ \" & Penalty=\" + penaltyType + \" & Degree= \" + str(i+1)\n",
    "            variations.append(variation)\n",
    "            print(variation)\n",
    "            print(acc_train)\n",
    "            print(acc_test)"
   ]
  },
  {
   "cell_type": "markdown",
   "metadata": {},
   "source": [
    "# Plotting Accuracy v/s Variations."
   ]
  },
  {
   "cell_type": "code",
   "execution_count": 6,
   "metadata": {},
   "outputs": [
    {
     "data": {
      "image/png": "[encoded data removed]",
      "text/plain": [
       "<Figure size 432x288 with 1 Axes>"
      ]
     },
     "metadata": {
      "needs_background": "light"
     },
     "output_type": "display_data"
    }
   ],
   "source": [
    "# Plot Accuracy v/s Variations.\n",
    "plt.plot(variations,accuracy_values_train,'.-',color='green')\n",
    "plt.plot(variations,accuracy_values_test,'.-',color='red')\n",
    "plt.legend(['Training Accuracy', 'Test Accuracy'], loc='lower left')\n",
    "plt.xlabel('Variations')\n",
    "plt.ylabel('Accuracy')\n",
    "plt.xticks(rotation=90)\n",
    "plt.title(\"Accuracy vs Variations\")\n",
    "plt.grid()"
   ]
  },
  {
   "cell_type": "code",
   "execution_count": 7,
   "metadata": {},
   "outputs": [
    {
     "name": "stderr",
     "output_type": "stream",
     "text": [
      "C:\\Users\\User\\Anaconda3\\lib\\site-packages\\sklearn\\linear_model\\logistic.py:433: FutureWarning: Default solver will be changed to 'lbfgs' in 0.22. Specify a solver to silence this warning.\n",
      "  FutureWarning)\n"
     ]
    },
    {
     "name": "stdout",
     "output_type": "stream",
     "text": [
      "[[ 0.00000000e+00  3.59426872e+00  5.57992330e+00  1.85336315e+01\n",
      "   2.14506964e-01  3.70046976e-01  3.02150854e-02  7.96581222e-02\n",
      "   7.64019715e-01  6.72210982e-01  6.05878386e-01  1.86391424e+00\n",
      "   4.37099681e-01  5.77377205e-01  0.00000000e+00  1.70026257e-01\n",
      "   6.29403812e-02  1.43592582e+00  1.25077769e-02  6.36981143e-01\n",
      "   3.34567519e-01  0.00000000e+00 -8.98690624e-02  4.65392105e-01\n",
      "   3.25741173e-01  2.42143039e-01  4.40740525e-01  0.00000000e+00\n",
      "   3.44757483e-01  6.33633476e-01  1.08119058e+00  9.81120185e-01\n",
      "   3.39289379e-01  2.41191627e-01  1.37703025e+00  6.14835871e-01\n",
      "   1.19117524e+00  2.58715081e-03  1.05314255e+00  0.00000000e+00\n",
      "   6.72683893e-01  3.85471681e-02  1.76264992e+00 -2.55717306e-01\n",
      "   2.78747854e+00 -3.08784518e+00  0.00000000e+00 -4.40489402e-01\n",
      "  -2.33931145e-01  0.00000000e+00  0.00000000e+00  0.00000000e+00\n",
      "   0.00000000e+00 -4.93501754e-04 -1.01986223e-01  5.09005253e-01\n",
      "   0.00000000e+00  1.18137871e-01  0.00000000e+00 -2.64279556e-01\n",
      "   7.96790860e-02  0.00000000e+00 -5.50528300e-02 -3.21222682e-01\n",
      "   0.00000000e+00  1.86943612e-01  3.05980659e-01  2.44024506e-01\n",
      "   3.63180514e-01  0.00000000e+00  0.00000000e+00  1.65019446e-01\n",
      "  -1.38284668e-01  0.00000000e+00 -1.77451197e-01  7.05047758e-02\n",
      "   0.00000000e+00  0.00000000e+00 -4.34855103e-01  0.00000000e+00\n",
      "   0.00000000e+00 -2.85984596e-01  0.00000000e+00  0.00000000e+00\n",
      "  -8.70008590e-01 -9.53866435e-01 -3.43775234e-02 -9.52967010e-01\n",
      "   0.00000000e+00 -6.57387400e-02  7.77962654e-01 -2.34820038e-01\n",
      "   0.00000000e+00 -1.71739295e-02 -3.77764539e-01  0.00000000e+00\n",
      "  -3.40676766e-01  2.80934649e-01 -6.13217323e-02 -4.36642608e-02\n",
      "   0.00000000e+00 -2.19819385e-01  6.68743666e-02  0.00000000e+00\n",
      "   7.17558197e-01  2.55168930e-01 -1.72096334e-01  5.63980695e-01\n",
      "   0.00000000e+00  4.52067961e-01  0.00000000e+00  3.22993109e-01\n",
      "  -1.51049179e-01  0.00000000e+00  0.00000000e+00 -4.13120618e-03\n",
      "   3.18512498e-01  4.36421878e-01  0.00000000e+00  0.00000000e+00\n",
      "  -2.19243118e-01  0.00000000e+00  0.00000000e+00  0.00000000e+00\n",
      "   0.00000000e+00 -4.60846020e-01  0.00000000e+00  2.03706193e-01\n",
      "  -7.37735001e-01  0.00000000e+00  0.00000000e+00  0.00000000e+00\n",
      "   0.00000000e+00  0.00000000e+00  0.00000000e+00  0.00000000e+00\n",
      "   0.00000000e+00  0.00000000e+00  0.00000000e+00  0.00000000e+00\n",
      "   0.00000000e+00  0.00000000e+00 -1.23698971e-01  0.00000000e+00\n",
      "  -4.64999765e+00  0.00000000e+00  6.45025381e-02  0.00000000e+00\n",
      "  -1.51648238e-01  0.00000000e+00  0.00000000e+00  0.00000000e+00\n",
      "   0.00000000e+00  0.00000000e+00  9.61986606e-01  0.00000000e+00\n",
      "   0.00000000e+00 -5.96958291e-01  0.00000000e+00  0.00000000e+00\n",
      "   0.00000000e+00  0.00000000e+00  0.00000000e+00  0.00000000e+00\n",
      "   0.00000000e+00  0.00000000e+00  1.47605368e+00  0.00000000e+00\n",
      "  -5.95837885e-02 -6.95424266e-01 -6.41565672e-01 -3.97195181e-02\n",
      "   0.00000000e+00  0.00000000e+00 -3.30589331e-01  0.00000000e+00\n",
      "   6.61722809e-01  0.00000000e+00  0.00000000e+00  0.00000000e+00\n",
      "  -1.65555292e-02 -8.17513738e-02  0.00000000e+00 -3.89117967e-01\n",
      "   1.39957136e-01  0.00000000e+00  0.00000000e+00 -1.65428250e-02\n",
      "   0.00000000e+00  0.00000000e+00 -9.15045692e-02  0.00000000e+00\n",
      "   0.00000000e+00  0.00000000e+00  0.00000000e+00  0.00000000e+00\n",
      "   0.00000000e+00  0.00000000e+00  0.00000000e+00  0.00000000e+00\n",
      "   0.00000000e+00  0.00000000e+00  0.00000000e+00  0.00000000e+00\n",
      "   0.00000000e+00 -1.73369235e-01  0.00000000e+00  0.00000000e+00\n",
      "   0.00000000e+00 -1.71705830e-02  0.00000000e+00  0.00000000e+00\n",
      "   0.00000000e+00  0.00000000e+00  0.00000000e+00  0.00000000e+00\n",
      "   3.67483456e-02  0.00000000e+00  0.00000000e+00 -1.58994108e-01\n",
      "   0.00000000e+00  3.78872206e-01  0.00000000e+00  0.00000000e+00\n",
      "   3.58050385e-02 -6.11402688e-02  0.00000000e+00  0.00000000e+00\n",
      "  -1.76166627e-01  0.00000000e+00 -3.74782362e-01  5.56424132e-01\n",
      "   0.00000000e+00  0.00000000e+00  0.00000000e+00  0.00000000e+00\n",
      "   0.00000000e+00  0.00000000e+00  0.00000000e+00  0.00000000e+00\n",
      "   0.00000000e+00  0.00000000e+00 -1.03675009e-03  0.00000000e+00\n",
      "   3.05852679e-01  0.00000000e+00  2.35136478e-01  0.00000000e+00\n",
      "   0.00000000e+00  0.00000000e+00  8.64641331e-04  5.15981119e-02\n",
      "  -4.28692158e-01 -4.93611407e-04  0.00000000e+00  4.89771827e-03\n",
      "  -1.19144165e-02 -5.23470039e-01  6.64042156e-02  4.21604870e-01\n",
      "   2.52673272e-01  5.14342842e-02  0.00000000e+00 -1.74082801e-01\n",
      "  -2.01284120e-01 -1.34918982e-01  0.00000000e+00  0.00000000e+00\n",
      "   5.03971857e-02  0.00000000e+00  0.00000000e+00  2.25283112e-01\n",
      "   0.00000000e+00  0.00000000e+00  0.00000000e+00 -8.32157563e-06\n",
      "   3.38071668e-02  0.00000000e+00  0.00000000e+00  0.00000000e+00\n",
      "   5.99034937e-04  0.00000000e+00  0.00000000e+00 -7.44028994e-01\n",
      "   0.00000000e+00  1.45176996e-01  2.51841983e-02  0.00000000e+00\n",
      "  -9.59596207e-02 -1.84763287e-01  1.29413791e-01  0.00000000e+00\n",
      "   3.25248645e-02 -2.47550327e-01  0.00000000e+00  5.32675257e-02\n",
      "   0.00000000e+00  2.58480063e-01 -3.43410179e-02  0.00000000e+00\n",
      "   7.14584542e-02  0.00000000e+00 -1.24440793e-01 -1.48760230e-01\n",
      "  -4.80750688e-02  0.00000000e+00  0.00000000e+00 -2.85566163e-01\n",
      "   0.00000000e+00  0.00000000e+00  0.00000000e+00  0.00000000e+00\n",
      "   6.85857934e-05  2.67401599e-03  1.40100733e-01  0.00000000e+00\n",
      "   6.99167925e-04  0.00000000e+00 -3.86182330e-02  1.16561402e-03\n",
      "   2.03776405e-01  0.00000000e+00  5.55259125e-05  5.11193863e-04\n",
      "   4.61453110e-02 -2.45602454e-02  0.00000000e+00  0.00000000e+00\n",
      "   4.00452733e-01  0.00000000e+00  0.00000000e+00  0.00000000e+00\n",
      "  -2.51513720e-01  2.58177566e-01 -5.35295007e-03  0.00000000e+00\n",
      "  -1.72859636e-01  2.42546791e-04 -2.70823078e-01 -2.89051610e-02\n",
      "   0.00000000e+00 -1.08827496e-01  0.00000000e+00  0.00000000e+00\n",
      "   0.00000000e+00 -2.25596059e-03  0.00000000e+00 -1.43406493e-01\n",
      "   0.00000000e+00  5.34049163e-04  0.00000000e+00  2.99910526e-01\n",
      "   1.48813174e-02  5.37278918e-02  0.00000000e+00  0.00000000e+00\n",
      "   0.00000000e+00  3.21197694e-03  0.00000000e+00  6.90318285e-02\n",
      "  -1.32325537e-01  0.00000000e+00  0.00000000e+00  0.00000000e+00\n",
      "  -3.36446403e-01  3.75245634e-01  0.00000000e+00 -2.74303906e-01\n",
      "   5.38054697e-02  0.00000000e+00 -1.21017310e-01 -3.82416944e-01\n",
      "   2.16134894e-01 -3.98935070e-01  1.68012534e-04  0.00000000e+00\n",
      "   0.00000000e+00 -3.05990745e-01 -4.45519652e-01 -2.82729256e-01\n",
      "  -2.94873199e-01 -1.45714326e-02 -1.03307304e-01  0.00000000e+00\n",
      "   0.00000000e+00  2.57604972e-01 -1.26036200e-01  0.00000000e+00\n",
      "   0.00000000e+00  0.00000000e+00 -2.29126204e-04 -2.47205919e-01\n",
      "   0.00000000e+00  3.72432169e-03  5.23643985e-02  0.00000000e+00\n",
      "  -2.73432417e-02  8.34969881e-02  7.42829482e-02  4.18519296e-02\n",
      "   1.78793365e-03  5.05592097e-04 -1.70801766e-02  1.22567782e-01\n",
      "   3.14744837e-02  0.00000000e+00 -3.33440936e-01  0.00000000e+00\n",
      "   0.00000000e+00 -4.48520051e-03  1.09954893e-01  0.00000000e+00\n",
      "  -4.22152513e-02 -1.68315872e-01  0.00000000e+00 -8.67380820e-02\n",
      "   0.00000000e+00  0.00000000e+00  6.45087268e-02  0.00000000e+00\n",
      "   1.72102926e-01  0.00000000e+00  0.00000000e+00  2.28703917e-04\n",
      "   0.00000000e+00 -1.85195767e-03  3.51059269e-01  1.28219371e-02\n",
      "   5.48965906e-03  0.00000000e+00  0.00000000e+00  3.24915760e-02\n",
      "   0.00000000e+00 -2.92837139e-03  9.65203663e-02  0.00000000e+00\n",
      "   0.00000000e+00  0.00000000e+00  4.92225561e-02  0.00000000e+00\n",
      "  -7.31051224e-03 -2.97237436e-01  0.00000000e+00  0.00000000e+00\n",
      "  -1.55877944e-01 -5.43325534e-02  0.00000000e+00 -1.07109467e-01\n",
      "  -6.97841943e-02  0.00000000e+00 -1.57580646e-01  0.00000000e+00\n",
      "  -8.71565237e-02  0.00000000e+00  0.00000000e+00  0.00000000e+00\n",
      "  -1.00991022e-01  0.00000000e+00 -3.26875517e-01  3.02542257e-02\n",
      "  -8.85682964e-02  0.00000000e+00  0.00000000e+00  0.00000000e+00\n",
      "   0.00000000e+00 -9.15160913e-02  3.53219512e-01  0.00000000e+00\n",
      "   2.04435463e-01  3.41069995e-02 -4.33324759e-02 -1.30152989e-01\n",
      "  -2.49922075e-01 -7.44844871e-02 -3.69652615e-01  0.00000000e+00\n",
      "   0.00000000e+00  0.00000000e+00  0.00000000e+00  0.00000000e+00\n",
      "   0.00000000e+00  3.34474251e-02  0.00000000e+00  0.00000000e+00\n",
      "   0.00000000e+00  1.18495443e-01  0.00000000e+00  0.00000000e+00\n",
      "   4.73564988e-01  0.00000000e+00  1.01985886e-01  1.54949670e-01\n",
      "  -2.11306254e-01  0.00000000e+00 -4.22606232e-01  8.42937191e-02\n",
      "   0.00000000e+00 -1.11923610e-04 -1.04553503e-04  0.00000000e+00\n",
      "   0.00000000e+00 -1.12606299e-02 -1.32362561e-01 -1.06998949e-01\n",
      "  -1.67885792e-01 -1.12191028e-01 -1.45968431e-02 -4.33043697e-02\n",
      "  -1.36752311e-02  0.00000000e+00  0.00000000e+00 -2.31703909e-01\n",
      "   0.00000000e+00  0.00000000e+00  0.00000000e+00  1.31580656e-01\n",
      "   0.00000000e+00  0.00000000e+00  0.00000000e+00  4.71903776e-01\n",
      "   0.00000000e+00  0.00000000e+00  3.39215938e-01  1.21342380e-01\n",
      "   2.51765983e-01  2.31247459e-02  0.00000000e+00 -2.50745695e-01\n",
      "   0.00000000e+00  1.03708496e-01 -3.27777738e-01  1.06039984e-01\n",
      "   2.84549495e-02  0.00000000e+00  0.00000000e+00  1.67451677e-01\n",
      "   0.00000000e+00  5.78000545e-02  0.00000000e+00  0.00000000e+00\n",
      "  -4.35906510e-02  1.83515534e-01  0.00000000e+00  0.00000000e+00\n",
      "   0.00000000e+00 -3.10491557e-01 -3.22514224e-01  0.00000000e+00\n",
      "   0.00000000e+00 -2.18926130e-01 -2.24343782e-01 -2.60238491e-01\n",
      "   8.72791881e-02  0.00000000e+00 -1.50884226e-01  0.00000000e+00\n",
      "   0.00000000e+00  0.00000000e+00  3.60668887e-01 -1.99667054e-01\n",
      "  -2.33942123e-03  0.00000000e+00  0.00000000e+00  0.00000000e+00\n",
      "   0.00000000e+00  0.00000000e+00  0.00000000e+00  0.00000000e+00\n",
      "  -1.02716310e-02 -4.78613811e-02 -7.64200821e-02  4.41440730e-02\n",
      "   0.00000000e+00  0.00000000e+00  2.37259545e-01 -5.68993319e-01\n",
      "   0.00000000e+00  4.20223000e-02 -1.00254864e-01 -3.90835010e-01\n",
      "  -1.33721180e-01  0.00000000e+00 -1.60174391e-01  2.25201147e-01\n",
      "  -1.02856549e-01  0.00000000e+00 -1.56653023e-01 -1.41577836e-02\n",
      "  -3.06059961e-03 -2.50009792e-01 -2.00582316e-01 -4.59538918e-02\n",
      "  -1.64412924e-01 -1.54653660e-01  0.00000000e+00  0.00000000e+00\n",
      "   0.00000000e+00  9.66520779e-02  0.00000000e+00  0.00000000e+00\n",
      "   0.00000000e+00  0.00000000e+00  0.00000000e+00  0.00000000e+00\n",
      "   0.00000000e+00  0.00000000e+00 -8.90989556e-02  1.40032423e-05\n",
      "   0.00000000e+00 -1.37298774e-01  0.00000000e+00 -8.04279778e-02\n",
      "  -1.07101476e-01  0.00000000e+00  0.00000000e+00 -1.07868283e-01\n",
      "  -2.93183609e-03 -5.20407470e-02 -1.88242621e-02  0.00000000e+00\n",
      "   0.00000000e+00  1.51422598e-01  0.00000000e+00  2.99139142e-01\n",
      "   3.36464677e-06 -4.32198266e-01  0.00000000e+00  1.16304296e-01\n",
      "   0.00000000e+00 -2.52220733e-01  0.00000000e+00  0.00000000e+00\n",
      "  -4.06674556e-01  0.00000000e+00  0.00000000e+00 -1.68809869e-03\n",
      "   2.26294026e-01 -9.11431195e-02  0.00000000e+00  0.00000000e+00\n",
      "   0.00000000e+00  0.00000000e+00  0.00000000e+00  0.00000000e+00\n",
      "   0.00000000e+00 -2.90038080e-01 -8.55415227e-02  1.09905478e-01\n",
      "   1.60183058e-01  0.00000000e+00  1.01193044e-01  0.00000000e+00\n",
      "   0.00000000e+00  0.00000000e+00  1.66428668e-01  2.29652444e-01\n",
      "  -1.34972089e-01  6.04034227e-04 -1.29106957e-01  0.00000000e+00\n",
      "   0.00000000e+00 -1.37897422e-01  0.00000000e+00  0.00000000e+00\n",
      "   0.00000000e+00 -7.88293014e-03 -2.97698404e-04  0.00000000e+00\n",
      "   0.00000000e+00  0.00000000e+00  1.57716869e-04  1.31407486e-01\n",
      "   0.00000000e+00 -1.07659366e-01 -8.17916449e-02 -1.32221666e-01\n",
      "   0.00000000e+00  4.03060305e-01  0.00000000e+00  3.86322360e-04\n",
      "   9.33647551e-02 -3.10788783e-02  0.00000000e+00  0.00000000e+00\n",
      "   0.00000000e+00  0.00000000e+00  1.54807399e-01  0.00000000e+00\n",
      "   3.55456196e-01  0.00000000e+00  3.57065112e-02  1.23902066e-02\n",
      "   0.00000000e+00  2.68238920e-01  0.00000000e+00  8.19075486e-02\n",
      "   0.00000000e+00 -1.29536902e-01  2.05500204e-01  0.00000000e+00\n",
      "  -4.90861993e-01  1.86963884e-01  0.00000000e+00 -2.75158118e-01\n",
      "   1.12584265e-01 -1.40610410e-01  1.12210920e-02 -3.28750181e-01\n",
      "   0.00000000e+00  1.35815480e-01 -5.11664020e-01  0.00000000e+00\n",
      "   0.00000000e+00  6.44815495e-02 -7.13626760e-01 -2.06933217e-02\n",
      "  -1.29957885e-01 -7.44663148e-02  2.31901942e-01  1.37424362e-01\n",
      "   0.00000000e+00 -2.14879704e-01  1.35249819e-01 -4.54033632e-02\n",
      "  -2.03718349e-02  0.00000000e+00  0.00000000e+00 -1.19374207e-01\n",
      "   0.00000000e+00  1.11611928e-03  0.00000000e+00  2.47500310e-01\n",
      "  -3.57155809e-01  0.00000000e+00  0.00000000e+00  4.01803398e-02\n",
      "  -6.12035542e-02 -1.58767591e-01  0.00000000e+00  4.04614983e-01\n",
      "  -1.59236061e-01 -3.22547616e-01  0.00000000e+00  8.08204876e-02\n",
      "   1.39494990e-01  0.00000000e+00  1.21343353e-01  0.00000000e+00\n",
      "   0.00000000e+00  0.00000000e+00 -8.67115768e-02 -2.29327627e-01\n",
      "  -2.96450018e-03 -1.16267459e-01  0.00000000e+00  4.97533027e-01\n",
      "  -3.62930842e-02  0.00000000e+00  3.36047545e-02  0.00000000e+00\n",
      "  -4.78925624e-02  0.00000000e+00  0.00000000e+00  0.00000000e+00\n",
      "   0.00000000e+00 -1.03819382e-02  1.08798935e-01  1.26059096e-02\n",
      "   0.00000000e+00 -1.94303761e-01  0.00000000e+00 -1.79607193e-01\n",
      "   0.00000000e+00 -3.98092358e-02  0.00000000e+00 -5.77557257e-02\n",
      "  -1.50551301e-01  0.00000000e+00  3.26756829e-01  1.22762918e-01\n",
      "   0.00000000e+00 -7.68624314e-02  1.02391509e-01 -1.06633397e-01\n",
      "  -2.75843855e-01  7.05625935e-02  1.37979285e-01  0.00000000e+00\n",
      "   0.00000000e+00  0.00000000e+00  0.00000000e+00  0.00000000e+00\n",
      "   0.00000000e+00  8.82659914e-02 -4.30155819e-02  0.00000000e+00\n",
      "  -2.07153791e-01 -1.62128298e-01  5.50890475e-02  0.00000000e+00\n",
      "   0.00000000e+00  2.61793612e-01  2.04869621e-01  0.00000000e+00\n",
      "   0.00000000e+00 -6.61096228e-01  0.00000000e+00 -7.49214532e-03\n",
      "   0.00000000e+00  0.00000000e+00  0.00000000e+00 -3.07323168e-03\n",
      "  -3.89824669e-02  1.18836881e-01  8.83764070e-04  0.00000000e+00\n",
      "   0.00000000e+00  0.00000000e+00 -2.52238244e-01 -1.33221075e-01\n",
      "   0.00000000e+00  0.00000000e+00  0.00000000e+00  6.30190331e-02\n",
      "   2.00005489e-02  7.38025327e-05  0.00000000e+00  3.43190029e-01\n",
      "   0.00000000e+00  0.00000000e+00  5.43423717e-02  2.69955455e-01\n",
      "  -6.53380672e-02  0.00000000e+00  0.00000000e+00  1.14804485e-01\n",
      "  -5.29941582e-03  0.00000000e+00  0.00000000e+00  0.00000000e+00\n",
      "   0.00000000e+00  0.00000000e+00 -2.75816941e-01 -1.79331216e-01\n",
      "   1.45714753e-01  6.31344400e-02 -1.45657009e-02  0.00000000e+00\n",
      "   2.85206862e-01 -3.91434354e-01 -3.90999567e-02 -1.19181621e-01\n",
      "  -1.70058579e-01 -4.16841315e-01  0.00000000e+00  4.49502085e-02\n",
      "  -2.58305084e-01  0.00000000e+00  0.00000000e+00 -3.09744463e-01\n",
      "  -4.50279320e-01 -2.70881399e-01 -2.43534668e-02  0.00000000e+00\n",
      "  -4.40296391e-02  0.00000000e+00 -2.62067858e-03  0.00000000e+00\n",
      "   4.93624433e-01 -2.87629959e-01  1.46986260e-01 -2.18779950e-02\n",
      "  -4.38653732e-01  0.00000000e+00 -3.14572186e-01 -3.42772555e-02\n",
      "  -2.65213723e-01 -1.43295360e-04 -3.15453193e-01  0.00000000e+00\n",
      "   1.67620226e-01 -2.83346541e-01  0.00000000e+00  0.00000000e+00\n",
      "   0.00000000e+00 -6.65183176e-04  0.00000000e+00  1.05558239e-01\n",
      "   0.00000000e+00  0.00000000e+00  0.00000000e+00  2.09814578e-01\n",
      "  -3.57293018e-01  0.00000000e+00  0.00000000e+00 -6.25765297e-05\n",
      "  -7.95739730e-02  0.00000000e+00 -7.68003409e-04  0.00000000e+00\n",
      "   0.00000000e+00  4.24796297e-01  0.00000000e+00  1.72343352e-07\n",
      "  -2.47650219e-01 -3.42047984e-01 -1.04298263e-01 -1.16121250e-01\n",
      "  -3.12039213e-01  0.00000000e+00  0.00000000e+00  2.44298486e-01\n",
      "  -1.67126830e-01 -7.10331616e-02  0.00000000e+00 -1.44944351e-01\n",
      "  -1.75988115e-01  0.00000000e+00  3.04452341e-01 -4.98930194e-03\n",
      "   0.00000000e+00  0.00000000e+00 -2.08026442e-01 -1.22087523e-01\n",
      "   0.00000000e+00  1.43089941e-01  1.10155163e-01  4.42051095e-03\n",
      "   1.36522468e-01  5.55564850e-02  0.00000000e+00  9.34049702e-02\n",
      "   0.00000000e+00  1.38611231e-01  4.85154147e-02 -3.89007659e-01\n",
      "   0.00000000e+00  0.00000000e+00  1.39107349e-04  0.00000000e+00\n",
      "   1.65002435e-01  8.53017284e-05 -4.14210509e-01  0.00000000e+00\n",
      "   0.00000000e+00  1.45409453e+00]]\n",
      "[0.]\n"
     ]
    },
    {
     "name": "stderr",
     "output_type": "stream",
     "text": [
      "C:\\Users\\User\\Anaconda3\\lib\\site-packages\\sklearn\\svm\\base.py:922: ConvergenceWarning: Liblinear failed to converge, increase the number of iterations.\n",
      "  \"the number of iterations.\", ConvergenceWarning)\n"
     ]
    }
   ],
   "source": [
    "# Based on the graph, variation where C=1, dual=False, penalty = l1 and degree = 2 give the highest accuracy\n",
    "# Print out all the coefficients for that variation\n",
    "logreg = LogisticRegression(C=1,dual=False,penalty=\"l1\")\n",
    "poly = PolynomialFeatures(degree=2)\n",
    "x_train_poly = poly.fit_transform(x_train)\n",
    "logreg.fit(x_train_poly, y_train)\n",
    "yhat = logreg.predict(x_train_poly)\n",
    "w = logreg.coef_\n",
    "intercept = logreg.intercept_\n",
    "\n",
    "print(w)\n",
    "print(intercept)"
   ]
  },
  {
   "cell_type": "markdown",
   "metadata": {},
   "source": [
    "# Performance Metrics:\n"
   ]
  },
  {
   "cell_type": "code",
   "execution_count": 8,
   "metadata": {},
   "outputs": [
    {
     "name": "stdout",
     "output_type": "stream",
     "text": [
      "[0.99258649 0.99487705]\n",
      "[0.99586777 0.99081633]\n",
      "[0.99422442 0.99284254]\n"
     ]
    }
   ],
   "source": [
    "# Based on the graph, variation where C=1, dual=False, penalty = l1 and degree = 2 give the highest accuracy\n",
    "# Print out precision, recall and fscore using precision_recall_fscore_support nethod of sklearn for that variation\n",
    "prec , recal , fscore,_ = precision_recall_fscore_support(y_train, yhat)\n",
    "\n",
    "print (prec)\n",
    "print (recal)\n",
    "print (fscore)"
   ]
  },
  {
   "cell_type": "code",
   "execution_count": null,
   "metadata": {},
   "outputs": [],
   "source": []
  }
 ],
 "metadata": {
  "kernelspec": {
   "display_name": "Python 3",
   "language": "python",
   "name": "python3"
  },
  "language_info": {
   "codemirror_mode": {
    "name": "ipython",
    "version": 3
   },
   "file_extension": ".py",
   "mimetype": "text/x-python",
   "name": "python",
   "nbconvert_exporter": "python",
   "pygments_lexer": "ipython3",
   "version": "3.7.1"
  }
 },
 "nbformat": 4,
 "nbformat_minor": 2
}
